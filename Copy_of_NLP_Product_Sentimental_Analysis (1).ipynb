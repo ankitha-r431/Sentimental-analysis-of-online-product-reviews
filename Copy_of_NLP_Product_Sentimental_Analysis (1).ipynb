{
  "metadata": {
    "kernelspec": {
      "display_name": "Python 3",
      "name": "python3"
    },
    "language_info": {
      "pygments_lexer": "ipython3",
      "nbconvert_exporter": "python",
      "version": "3.6.4",
      "file_extension": ".py",
      "codemirror_mode": {
        "name": "ipython",
        "version": 3
      },
      "name": "python",
      "mimetype": "text/x-python"
    },
    "kaggle": {
      "accelerator": "none",
      "dataSources": [
        {
          "sourceId": 4940809,
          "sourceType": "datasetVersion",
          "datasetId": 2865125
        }
      ],
      "dockerImageVersionId": 30474,
      "isInternetEnabled": false,
      "language": "python",
      "sourceType": "notebook",
      "isGpuEnabled": false
    },
    "colab": {
      "provenance": [],
      "gpuType": "T4"
    },
    "accelerator": "GPU"
  },
  "nbformat_minor": 0,
  "nbformat": 4,
  "cells": [
    {
      "source": [
        "# IMPORTANT: RUN THIS CELL IN ORDER TO IMPORT YOUR KAGGLE DATA SOURCES,\n",
        "# THEN FEEL FREE TO DELETE THIS CELL.\n",
        "# NOTE: THIS NOTEBOOK ENVIRONMENT DIFFERS FROM KAGGLE'S PYTHON\n",
        "# ENVIRONMENT SO THERE MAY BE MISSING LIBRARIES USED BY YOUR\n",
        "# NOTEBOOK.\n",
        "import kagglehub\n",
        "niraliivaghani_flipkart_product_customer_reviews_dataset_path = kagglehub.dataset_download('niraliivaghani/flipkart-product-customer-reviews-dataset')\n",
        "\n",
        "print('Data source import complete.')"
      ],
      "metadata": {
        "id": "fzF7yaWGgVpI",
        "colab": {
          "base_uri": "https://localhost:8080/"
        },
        "outputId": "114ff075-952d-4f04-e177-30486dc06f7b"
      },
      "cell_type": "code",
      "outputs": [
        {
          "output_type": "stream",
          "name": "stdout",
          "text": [
            "Warning: Looks like you're using an outdated `kagglehub` version (installed: 0.3.5), please consider upgrading to the latest version (0.3.6).\n",
            "Data source import complete.\n"
          ]
        }
      ],
      "execution_count": null
    },
    {
      "cell_type": "code",
      "source": [
        "# This Python 3 environment comes with many helpful analytics libraries installed\n",
        "# It is defined by the kaggle/python Docker image: https://github.com/kaggle/docker-python\n",
        "# For example, here's several helpful packages to load\n",
        "\n",
        "import numpy as np # linear algebra\n",
        "import pandas as pd # data processing, CSV file I/O (e.g. pd.read_csv)\n",
        "\n",
        "# Input data files are available in the read-only \"../input/\" directory\n",
        "# For example, running this (by clicking run or pressing Shift+Enter) will list all files under the input directory\n",
        "\n",
        "import os\n",
        "for dirname, _, filenames in os.walk('/kaggle/input'):\n",
        "    for filename in filenames:\n",
        "        print(os.path.join(dirname, filename))\n",
        "\n",
        "# You can write up to 20GB to the current directory (/kaggle/working/) that gets preserved as output when you create a version using \"Save & Run All\"\n",
        "# You can also write temporary files to /kaggle/temp/, but they won't be saved outside of the current session"
      ],
      "metadata": {
        "_uuid": "8f2839f25d086af736a60e9eeb907d3b93b6e0e5",
        "_cell_guid": "b1076dfc-b9ad-4769-8c92-a6c4dae69d19",
        "execution": {
          "iopub.status.busy": "2023-05-13T08:47:03.438109Z",
          "iopub.execute_input": "2023-05-13T08:47:03.439077Z",
          "iopub.status.idle": "2023-05-13T08:47:03.4522Z",
          "shell.execute_reply.started": "2023-05-13T08:47:03.439037Z",
          "shell.execute_reply": "2023-05-13T08:47:03.451064Z"
        },
        "trusted": true,
        "id": "0z5aD9jdgVpK"
      },
      "outputs": [],
      "execution_count": null
    },
    {
      "cell_type": "code",
      "source": [
        "#import all the necessary packages\n",
        "\n",
        "import matplotlib.pyplot as plt\n",
        "import numpy as np\n",
        "import pandas as pd\n",
        "import seaborn as sns\n",
        "%matplotlib inline\n",
        "from matplotlib import style\n",
        "style.use('ggplot')\n",
        "import csv"
      ],
      "metadata": {
        "execution": {
          "iopub.status.busy": "2023-05-13T08:47:03.45431Z",
          "iopub.execute_input": "2023-05-13T08:47:03.455355Z",
          "iopub.status.idle": "2023-05-13T08:47:03.463652Z",
          "shell.execute_reply.started": "2023-05-13T08:47:03.455321Z",
          "shell.execute_reply": "2023-05-13T08:47:03.46234Z"
        },
        "trusted": true,
        "id": "ZCcie5w2gVpL"
      },
      "outputs": [],
      "execution_count": null
    },
    {
      "cell_type": "markdown",
      "source": [
        "1. Reading the dataset"
      ],
      "metadata": {
        "id": "Kyw9ep3NgVpL"
      }
    },
    {
      "cell_type": "code",
      "source": [
        "df=pd.read_csv(\"/content/Dataset-SA.csv\")\n",
        "df.head()"
      ],
      "metadata": {
        "execution": {
          "iopub.status.busy": "2023-05-13T08:47:03.465177Z",
          "iopub.execute_input": "2023-05-13T08:47:03.465685Z",
          "iopub.status.idle": "2023-05-13T08:47:04.139205Z",
          "shell.execute_reply.started": "2023-05-13T08:47:03.465649Z",
          "shell.execute_reply": "2023-05-13T08:47:04.138086Z"
        },
        "trusted": true,
        "id": "xp4tAM12gVpN",
        "colab": {
          "base_uri": "https://localhost:8080/",
          "height": 206
        },
        "outputId": "bb250f5e-5875-4854-a115-d6eb447fcf73"
      },
      "outputs": [
        {
          "output_type": "execute_result",
          "data": {
            "text/plain": [
              "                                        product_name product_price Rate  \\\n",
              "0  Candes 12 L Room/Personal Air Cooler??????(Whi...          3999    5   \n",
              "1  Candes 12 L Room/Personal Air Cooler??????(Whi...          3999    5   \n",
              "2  Candes 12 L Room/Personal Air Cooler??????(Whi...          3999    3   \n",
              "3  Candes 12 L Room/Personal Air Cooler??????(Whi...          3999    1   \n",
              "4  Candes 12 L Room/Personal Air Cooler??????(Whi...          3999    3   \n",
              "\n",
              "            Review                                            Summary  \\\n",
              "0           super!  great cooler excellent air flow and for this p...   \n",
              "1          awesome              best budget 2 fit cooler nice cooling   \n",
              "2             fair  the quality is good but the power of air is de...   \n",
              "3  useless product                  very bad product its a only a fan   \n",
              "4             fair                                      ok ok product   \n",
              "\n",
              "  Sentiment  \n",
              "0  positive  \n",
              "1  positive  \n",
              "2  positive  \n",
              "3  negative  \n",
              "4   neutral  "
            ],
            "text/html": [
              "\n",
              "  <div id=\"df-ec26146a-b1f7-468a-9a94-ec214a3a825e\" class=\"colab-df-container\">\n",
              "    <div>\n",
              "<style scoped>\n",
              "    .dataframe tbody tr th:only-of-type {\n",
              "        vertical-align: middle;\n",
              "    }\n",
              "\n",
              "    .dataframe tbody tr th {\n",
              "        vertical-align: top;\n",
              "    }\n",
              "\n",
              "    .dataframe thead th {\n",
              "        text-align: right;\n",
              "    }\n",
              "</style>\n",
              "<table border=\"1\" class=\"dataframe\">\n",
              "  <thead>\n",
              "    <tr style=\"text-align: right;\">\n",
              "      <th></th>\n",
              "      <th>product_name</th>\n",
              "      <th>product_price</th>\n",
              "      <th>Rate</th>\n",
              "      <th>Review</th>\n",
              "      <th>Summary</th>\n",
              "      <th>Sentiment</th>\n",
              "    </tr>\n",
              "  </thead>\n",
              "  <tbody>\n",
              "    <tr>\n",
              "      <th>0</th>\n",
              "      <td>Candes 12 L Room/Personal Air Cooler??????(Whi...</td>\n",
              "      <td>3999</td>\n",
              "      <td>5</td>\n",
              "      <td>super!</td>\n",
              "      <td>great cooler excellent air flow and for this p...</td>\n",
              "      <td>positive</td>\n",
              "    </tr>\n",
              "    <tr>\n",
              "      <th>1</th>\n",
              "      <td>Candes 12 L Room/Personal Air Cooler??????(Whi...</td>\n",
              "      <td>3999</td>\n",
              "      <td>5</td>\n",
              "      <td>awesome</td>\n",
              "      <td>best budget 2 fit cooler nice cooling</td>\n",
              "      <td>positive</td>\n",
              "    </tr>\n",
              "    <tr>\n",
              "      <th>2</th>\n",
              "      <td>Candes 12 L Room/Personal Air Cooler??????(Whi...</td>\n",
              "      <td>3999</td>\n",
              "      <td>3</td>\n",
              "      <td>fair</td>\n",
              "      <td>the quality is good but the power of air is de...</td>\n",
              "      <td>positive</td>\n",
              "    </tr>\n",
              "    <tr>\n",
              "      <th>3</th>\n",
              "      <td>Candes 12 L Room/Personal Air Cooler??????(Whi...</td>\n",
              "      <td>3999</td>\n",
              "      <td>1</td>\n",
              "      <td>useless product</td>\n",
              "      <td>very bad product its a only a fan</td>\n",
              "      <td>negative</td>\n",
              "    </tr>\n",
              "    <tr>\n",
              "      <th>4</th>\n",
              "      <td>Candes 12 L Room/Personal Air Cooler??????(Whi...</td>\n",
              "      <td>3999</td>\n",
              "      <td>3</td>\n",
              "      <td>fair</td>\n",
              "      <td>ok ok product</td>\n",
              "      <td>neutral</td>\n",
              "    </tr>\n",
              "  </tbody>\n",
              "</table>\n",
              "</div>\n",
              "    <div class=\"colab-df-buttons\">\n",
              "\n",
              "  <div class=\"colab-df-container\">\n",
              "    <button class=\"colab-df-convert\" onclick=\"convertToInteractive('df-ec26146a-b1f7-468a-9a94-ec214a3a825e')\"\n",
              "            title=\"Convert this dataframe to an interactive table.\"\n",
              "            style=\"display:none;\">\n",
              "\n",
              "  <svg xmlns=\"http://www.w3.org/2000/svg\" height=\"24px\" viewBox=\"0 -960 960 960\">\n",
              "    <path d=\"M120-120v-720h720v720H120Zm60-500h600v-160H180v160Zm220 220h160v-160H400v160Zm0 220h160v-160H400v160ZM180-400h160v-160H180v160Zm440 0h160v-160H620v160ZM180-180h160v-160H180v160Zm440 0h160v-160H620v160Z\"/>\n",
              "  </svg>\n",
              "    </button>\n",
              "\n",
              "  <style>\n",
              "    .colab-df-container {\n",
              "      display:flex;\n",
              "      gap: 12px;\n",
              "    }\n",
              "\n",
              "    .colab-df-convert {\n",
              "      background-color: #E8F0FE;\n",
              "      border: none;\n",
              "      border-radius: 50%;\n",
              "      cursor: pointer;\n",
              "      display: none;\n",
              "      fill: #1967D2;\n",
              "      height: 32px;\n",
              "      padding: 0 0 0 0;\n",
              "      width: 32px;\n",
              "    }\n",
              "\n",
              "    .colab-df-convert:hover {\n",
              "      background-color: #E2EBFA;\n",
              "      box-shadow: 0px 1px 2px rgba(60, 64, 67, 0.3), 0px 1px 3px 1px rgba(60, 64, 67, 0.15);\n",
              "      fill: #174EA6;\n",
              "    }\n",
              "\n",
              "    .colab-df-buttons div {\n",
              "      margin-bottom: 4px;\n",
              "    }\n",
              "\n",
              "    [theme=dark] .colab-df-convert {\n",
              "      background-color: #3B4455;\n",
              "      fill: #D2E3FC;\n",
              "    }\n",
              "\n",
              "    [theme=dark] .colab-df-convert:hover {\n",
              "      background-color: #434B5C;\n",
              "      box-shadow: 0px 1px 3px 1px rgba(0, 0, 0, 0.15);\n",
              "      filter: drop-shadow(0px 1px 2px rgba(0, 0, 0, 0.3));\n",
              "      fill: #FFFFFF;\n",
              "    }\n",
              "  </style>\n",
              "\n",
              "    <script>\n",
              "      const buttonEl =\n",
              "        document.querySelector('#df-ec26146a-b1f7-468a-9a94-ec214a3a825e button.colab-df-convert');\n",
              "      buttonEl.style.display =\n",
              "        google.colab.kernel.accessAllowed ? 'block' : 'none';\n",
              "\n",
              "      async function convertToInteractive(key) {\n",
              "        const element = document.querySelector('#df-ec26146a-b1f7-468a-9a94-ec214a3a825e');\n",
              "        const dataTable =\n",
              "          await google.colab.kernel.invokeFunction('convertToInteractive',\n",
              "                                                    [key], {});\n",
              "        if (!dataTable) return;\n",
              "\n",
              "        const docLinkHtml = 'Like what you see? Visit the ' +\n",
              "          '<a target=\"_blank\" href=https://colab.research.google.com/notebooks/data_table.ipynb>data table notebook</a>'\n",
              "          + ' to learn more about interactive tables.';\n",
              "        element.innerHTML = '';\n",
              "        dataTable['output_type'] = 'display_data';\n",
              "        await google.colab.output.renderOutput(dataTable, element);\n",
              "        const docLink = document.createElement('div');\n",
              "        docLink.innerHTML = docLinkHtml;\n",
              "        element.appendChild(docLink);\n",
              "      }\n",
              "    </script>\n",
              "  </div>\n",
              "\n",
              "\n",
              "<div id=\"df-6dfed403-3806-475c-946d-552ffe811db4\">\n",
              "  <button class=\"colab-df-quickchart\" onclick=\"quickchart('df-6dfed403-3806-475c-946d-552ffe811db4')\"\n",
              "            title=\"Suggest charts\"\n",
              "            style=\"display:none;\">\n",
              "\n",
              "<svg xmlns=\"http://www.w3.org/2000/svg\" height=\"24px\"viewBox=\"0 0 24 24\"\n",
              "     width=\"24px\">\n",
              "    <g>\n",
              "        <path d=\"M19 3H5c-1.1 0-2 .9-2 2v14c0 1.1.9 2 2 2h14c1.1 0 2-.9 2-2V5c0-1.1-.9-2-2-2zM9 17H7v-7h2v7zm4 0h-2V7h2v10zm4 0h-2v-4h2v4z\"/>\n",
              "    </g>\n",
              "</svg>\n",
              "  </button>\n",
              "\n",
              "<style>\n",
              "  .colab-df-quickchart {\n",
              "      --bg-color: #E8F0FE;\n",
              "      --fill-color: #1967D2;\n",
              "      --hover-bg-color: #E2EBFA;\n",
              "      --hover-fill-color: #174EA6;\n",
              "      --disabled-fill-color: #AAA;\n",
              "      --disabled-bg-color: #DDD;\n",
              "  }\n",
              "\n",
              "  [theme=dark] .colab-df-quickchart {\n",
              "      --bg-color: #3B4455;\n",
              "      --fill-color: #D2E3FC;\n",
              "      --hover-bg-color: #434B5C;\n",
              "      --hover-fill-color: #FFFFFF;\n",
              "      --disabled-bg-color: #3B4455;\n",
              "      --disabled-fill-color: #666;\n",
              "  }\n",
              "\n",
              "  .colab-df-quickchart {\n",
              "    background-color: var(--bg-color);\n",
              "    border: none;\n",
              "    border-radius: 50%;\n",
              "    cursor: pointer;\n",
              "    display: none;\n",
              "    fill: var(--fill-color);\n",
              "    height: 32px;\n",
              "    padding: 0;\n",
              "    width: 32px;\n",
              "  }\n",
              "\n",
              "  .colab-df-quickchart:hover {\n",
              "    background-color: var(--hover-bg-color);\n",
              "    box-shadow: 0 1px 2px rgba(60, 64, 67, 0.3), 0 1px 3px 1px rgba(60, 64, 67, 0.15);\n",
              "    fill: var(--button-hover-fill-color);\n",
              "  }\n",
              "\n",
              "  .colab-df-quickchart-complete:disabled,\n",
              "  .colab-df-quickchart-complete:disabled:hover {\n",
              "    background-color: var(--disabled-bg-color);\n",
              "    fill: var(--disabled-fill-color);\n",
              "    box-shadow: none;\n",
              "  }\n",
              "\n",
              "  .colab-df-spinner {\n",
              "    border: 2px solid var(--fill-color);\n",
              "    border-color: transparent;\n",
              "    border-bottom-color: var(--fill-color);\n",
              "    animation:\n",
              "      spin 1s steps(1) infinite;\n",
              "  }\n",
              "\n",
              "  @keyframes spin {\n",
              "    0% {\n",
              "      border-color: transparent;\n",
              "      border-bottom-color: var(--fill-color);\n",
              "      border-left-color: var(--fill-color);\n",
              "    }\n",
              "    20% {\n",
              "      border-color: transparent;\n",
              "      border-left-color: var(--fill-color);\n",
              "      border-top-color: var(--fill-color);\n",
              "    }\n",
              "    30% {\n",
              "      border-color: transparent;\n",
              "      border-left-color: var(--fill-color);\n",
              "      border-top-color: var(--fill-color);\n",
              "      border-right-color: var(--fill-color);\n",
              "    }\n",
              "    40% {\n",
              "      border-color: transparent;\n",
              "      border-right-color: var(--fill-color);\n",
              "      border-top-color: var(--fill-color);\n",
              "    }\n",
              "    60% {\n",
              "      border-color: transparent;\n",
              "      border-right-color: var(--fill-color);\n",
              "    }\n",
              "    80% {\n",
              "      border-color: transparent;\n",
              "      border-right-color: var(--fill-color);\n",
              "      border-bottom-color: var(--fill-color);\n",
              "    }\n",
              "    90% {\n",
              "      border-color: transparent;\n",
              "      border-bottom-color: var(--fill-color);\n",
              "    }\n",
              "  }\n",
              "</style>\n",
              "\n",
              "  <script>\n",
              "    async function quickchart(key) {\n",
              "      const quickchartButtonEl =\n",
              "        document.querySelector('#' + key + ' button');\n",
              "      quickchartButtonEl.disabled = true;  // To prevent multiple clicks.\n",
              "      quickchartButtonEl.classList.add('colab-df-spinner');\n",
              "      try {\n",
              "        const charts = await google.colab.kernel.invokeFunction(\n",
              "            'suggestCharts', [key], {});\n",
              "      } catch (error) {\n",
              "        console.error('Error during call to suggestCharts:', error);\n",
              "      }\n",
              "      quickchartButtonEl.classList.remove('colab-df-spinner');\n",
              "      quickchartButtonEl.classList.add('colab-df-quickchart-complete');\n",
              "    }\n",
              "    (() => {\n",
              "      let quickchartButtonEl =\n",
              "        document.querySelector('#df-6dfed403-3806-475c-946d-552ffe811db4 button');\n",
              "      quickchartButtonEl.style.display =\n",
              "        google.colab.kernel.accessAllowed ? 'block' : 'none';\n",
              "    })();\n",
              "  </script>\n",
              "</div>\n",
              "\n",
              "    </div>\n",
              "  </div>\n"
            ],
            "application/vnd.google.colaboratory.intrinsic+json": {
              "type": "dataframe",
              "variable_name": "df"
            }
          },
          "metadata": {},
          "execution_count": 5
        }
      ],
      "execution_count": null
    },
    {
      "cell_type": "code",
      "source": [
        "from google.colab import drive\n",
        "drive.mount('/content/drive')"
      ],
      "metadata": {
        "colab": {
          "base_uri": "https://localhost:8080/"
        },
        "id": "8dpTCpHHELU2",
        "outputId": "66be5f93-f4ae-49e3-c159-44310a42e9d5"
      },
      "execution_count": null,
      "outputs": [
        {
          "output_type": "stream",
          "name": "stdout",
          "text": [
            "Mounted at /content/drive\n"
          ]
        }
      ]
    },
    {
      "cell_type": "code",
      "source": [
        "#check the shape of the given dataset\n",
        "print(f'The dataset has {df.shape[0]} number of rows and {df.shape[1]} number of columns.')"
      ],
      "metadata": {
        "execution": {
          "iopub.status.busy": "2023-05-13T08:47:04.142245Z",
          "iopub.execute_input": "2023-05-13T08:47:04.142595Z",
          "iopub.status.idle": "2023-05-13T08:47:04.147941Z",
          "shell.execute_reply.started": "2023-05-13T08:47:04.142564Z",
          "shell.execute_reply": "2023-05-13T08:47:04.146936Z"
        },
        "trusted": true,
        "id": "uNNEPEj1gVpN",
        "colab": {
          "base_uri": "https://localhost:8080/"
        },
        "outputId": "365fd59d-75ad-483b-9862-b3f738b739af"
      },
      "outputs": [
        {
          "output_type": "stream",
          "name": "stdout",
          "text": [
            "The dataset has 205052 number of rows and 6 number of columns.\n"
          ]
        }
      ],
      "execution_count": null
    },
    {
      "cell_type": "code",
      "source": [
        "#check the columns in dataset\n",
        "df.columns"
      ],
      "metadata": {
        "execution": {
          "iopub.status.busy": "2023-05-13T08:47:04.149095Z",
          "iopub.execute_input": "2023-05-13T08:47:04.149387Z",
          "iopub.status.idle": "2023-05-13T08:47:04.162054Z",
          "shell.execute_reply.started": "2023-05-13T08:47:04.149361Z",
          "shell.execute_reply": "2023-05-13T08:47:04.160843Z"
        },
        "trusted": true,
        "id": "yMiMy1DtgVpN",
        "colab": {
          "base_uri": "https://localhost:8080/"
        },
        "outputId": "96e68ded-baa4-40db-fbc2-7a38e7b5b6fb"
      },
      "outputs": [
        {
          "output_type": "execute_result",
          "data": {
            "text/plain": [
              "Index(['product_name', 'product_price', 'Rate', 'Review', 'Summary',\n",
              "       'Sentiment'],\n",
              "      dtype='object')"
            ]
          },
          "metadata": {},
          "execution_count": 9
        }
      ],
      "execution_count": null
    },
    {
      "cell_type": "markdown",
      "source": [
        "2. Exploratory Data Analysis"
      ],
      "metadata": {
        "id": "4fYRX0rOgVpO"
      }
    },
    {
      "cell_type": "code",
      "source": [
        "#Check number of uniqueIds to see if there's any duplicate record in our dataset\n",
        "df['product_name'].nunique()"
      ],
      "metadata": {
        "execution": {
          "iopub.status.busy": "2023-05-13T08:47:04.163767Z",
          "iopub.execute_input": "2023-05-13T08:47:04.164134Z",
          "iopub.status.idle": "2023-05-13T08:47:04.213675Z",
          "shell.execute_reply.started": "2023-05-13T08:47:04.1641Z",
          "shell.execute_reply": "2023-05-13T08:47:04.212556Z"
        },
        "trusted": true,
        "id": "OYNINCKJgVpO",
        "colab": {
          "base_uri": "https://localhost:8080/"
        },
        "outputId": "79f2f994-c8b9-44a7-d071-5749ed9aceaf"
      },
      "outputs": [
        {
          "output_type": "execute_result",
          "data": {
            "text/plain": [
              "958"
            ]
          },
          "metadata": {},
          "execution_count": 8
        }
      ],
      "execution_count": null
    },
    {
      "cell_type": "code",
      "source": [
        "df.info()"
      ],
      "metadata": {
        "execution": {
          "iopub.status.busy": "2023-05-13T08:47:04.214868Z",
          "iopub.execute_input": "2023-05-13T08:47:04.21518Z",
          "iopub.status.idle": "2023-05-13T08:47:04.608008Z",
          "shell.execute_reply.started": "2023-05-13T08:47:04.215153Z",
          "shell.execute_reply": "2023-05-13T08:47:04.606704Z"
        },
        "trusted": true,
        "id": "TscL7mGJgVpO",
        "colab": {
          "base_uri": "https://localhost:8080/"
        },
        "outputId": "b371b206-1bf7-471f-df11-4de0c7afd78b"
      },
      "outputs": [
        {
          "output_type": "stream",
          "name": "stdout",
          "text": [
            "<class 'pandas.core.frame.DataFrame'>\n",
            "RangeIndex: 205052 entries, 0 to 205051\n",
            "Data columns (total 6 columns):\n",
            " #   Column         Non-Null Count   Dtype \n",
            "---  ------         --------------   ----- \n",
            " 0   product_name   205052 non-null  object\n",
            " 1   product_price  205052 non-null  object\n",
            " 2   Rate           205052 non-null  object\n",
            " 3   Review         180388 non-null  object\n",
            " 4   Summary        205041 non-null  object\n",
            " 5   Sentiment      205052 non-null  object\n",
            "dtypes: object(6)\n",
            "memory usage: 9.4+ MB\n"
          ]
        }
      ],
      "execution_count": null
    },
    {
      "cell_type": "markdown",
      "source": [
        "3. Data Pre-Processing"
      ],
      "metadata": {
        "id": "NaEVFYCggVpO"
      }
    },
    {
      "cell_type": "code",
      "source": [
        "# check the null values\n",
        "df.isnull().sum()"
      ],
      "metadata": {
        "execution": {
          "iopub.status.busy": "2023-05-13T08:47:04.609382Z",
          "iopub.execute_input": "2023-05-13T08:47:04.609742Z",
          "iopub.status.idle": "2023-05-13T08:47:04.993014Z",
          "shell.execute_reply.started": "2023-05-13T08:47:04.60971Z",
          "shell.execute_reply": "2023-05-13T08:47:04.9918Z"
        },
        "trusted": true,
        "id": "I7MFaSl-gVpO",
        "colab": {
          "base_uri": "https://localhost:8080/",
          "height": 272
        },
        "outputId": "6a7889c0-728e-4cfa-9ae9-199b5c095e7f"
      },
      "outputs": [
        {
          "output_type": "execute_result",
          "data": {
            "text/plain": [
              "product_name         0\n",
              "product_price        0\n",
              "Rate                 0\n",
              "Review           24664\n",
              "Summary             11\n",
              "Sentiment            0\n",
              "dtype: int64"
            ],
            "text/html": [
              "<div>\n",
              "<style scoped>\n",
              "    .dataframe tbody tr th:only-of-type {\n",
              "        vertical-align: middle;\n",
              "    }\n",
              "\n",
              "    .dataframe tbody tr th {\n",
              "        vertical-align: top;\n",
              "    }\n",
              "\n",
              "    .dataframe thead th {\n",
              "        text-align: right;\n",
              "    }\n",
              "</style>\n",
              "<table border=\"1\" class=\"dataframe\">\n",
              "  <thead>\n",
              "    <tr style=\"text-align: right;\">\n",
              "      <th></th>\n",
              "      <th>0</th>\n",
              "    </tr>\n",
              "  </thead>\n",
              "  <tbody>\n",
              "    <tr>\n",
              "      <th>product_name</th>\n",
              "      <td>0</td>\n",
              "    </tr>\n",
              "    <tr>\n",
              "      <th>product_price</th>\n",
              "      <td>0</td>\n",
              "    </tr>\n",
              "    <tr>\n",
              "      <th>Rate</th>\n",
              "      <td>0</td>\n",
              "    </tr>\n",
              "    <tr>\n",
              "      <th>Review</th>\n",
              "      <td>24664</td>\n",
              "    </tr>\n",
              "    <tr>\n",
              "      <th>Summary</th>\n",
              "      <td>11</td>\n",
              "    </tr>\n",
              "    <tr>\n",
              "      <th>Sentiment</th>\n",
              "      <td>0</td>\n",
              "    </tr>\n",
              "  </tbody>\n",
              "</table>\n",
              "</div><br><label><b>dtype:</b> int64</label>"
            ]
          },
          "metadata": {},
          "execution_count": 11
        }
      ],
      "execution_count": null
    },
    {
      "cell_type": "code",
      "source": [
        "\n",
        "# drop the null values\n",
        "df.dropna(inplace=True, axis=0)"
      ],
      "metadata": {
        "execution": {
          "iopub.status.busy": "2023-05-13T08:47:04.99487Z",
          "iopub.execute_input": "2023-05-13T08:47:04.995827Z",
          "iopub.status.idle": "2023-05-13T08:47:05.401293Z",
          "shell.execute_reply.started": "2023-05-13T08:47:04.995786Z",
          "shell.execute_reply": "2023-05-13T08:47:05.40013Z"
        },
        "trusted": true,
        "id": "LruaIudcgVpO"
      },
      "outputs": [],
      "execution_count": null
    },
    {
      "cell_type": "markdown",
      "source": [
        "4. Pre-Processing Reviews"
      ],
      "metadata": {
        "id": "4jujauDCgVpP"
      }
    },
    {
      "cell_type": "code",
      "source": [
        "#check first three reviews\n",
        "for review in df['Review'][0:3]:\n",
        "    print(review,'\\n')"
      ],
      "metadata": {
        "execution": {
          "iopub.status.busy": "2023-05-13T08:47:05.405179Z",
          "iopub.execute_input": "2023-05-13T08:47:05.405688Z",
          "iopub.status.idle": "2023-05-13T08:47:05.414074Z",
          "shell.execute_reply.started": "2023-05-13T08:47:05.40564Z",
          "shell.execute_reply": "2023-05-13T08:47:05.412378Z"
        },
        "trusted": true,
        "id": "k37dtEXqgVpP",
        "colab": {
          "base_uri": "https://localhost:8080/"
        },
        "outputId": "3edbff14-5e9b-47e5-a5c6-9987d8f29e6c"
      },
      "outputs": [
        {
          "output_type": "stream",
          "name": "stdout",
          "text": [
            "super! \n",
            "\n",
            "awesome \n",
            "\n",
            "fair \n",
            "\n"
          ]
        }
      ],
      "execution_count": null
    },
    {
      "cell_type": "markdown",
      "source": [
        "* Remove HTML tags\n",
        "Using BeautifulSoup from bs4 module to remove the html tags. We have already removed the html tags with pattern \"64...\", we will use get_text() to remove the html tags if there are any.\n",
        "* Remove Stop Words\n",
        "Remove the stopwords like \"a\", \"the\", \"I\" etc.\n",
        "Remove symbols and special characters.\n",
        "We will remove the special characters from our reviews like '#' ,'&' ,'@' etc.\n",
        "* Tokenize\n",
        "We will tokenize the words. We will split the sentences with spaces e.g \"I might come\" --> \"I\", \"might\", \"come\"\n",
        "* Stemming -Remove the suffixes from the words to get the root form of the word. e.g 'Wording' --> \"Word\""
      ],
      "metadata": {
        "id": "E-jO2rQVgVpP"
      }
    },
    {
      "cell_type": "code",
      "source": [
        "#import the libraries for pre-processing\n",
        "from bs4 import BeautifulSoup\n",
        "import nltk\n",
        "import re\n",
        "from nltk.corpus import stopwords\n",
        "from nltk.stem.snowball import SnowballStemmer\n",
        "\n",
        "# Download the stop words corpus\n",
        "nltk.download('stopwords')\n",
        "\n",
        "stops = set(stopwords.words('english')) #english stopwords\n",
        "\n",
        "stemmer = SnowballStemmer('english') #SnowballStemmer\n",
        "\n",
        "def review_to_words(raw_review):\n",
        "    # 1. Delete HTML\n",
        "    review_text = BeautifulSoup(raw_review, 'html.parser').get_text()\n",
        "    # 2. Make a space\n",
        "    letters_only = re.sub('[^a-zA-Z]', ' ', review_text)\n",
        "    # 3. lower letters\n",
        "    words = letters_only.lower().split()\n",
        "    # 5. Stopwords\n",
        "    meaningful_words = [w for w in words if not w in stops]\n",
        "    # 6. Stemming\n",
        "    stemming_words = [stemmer.stem(w) for w in meaningful_words]\n",
        "    # 7. space join words\n",
        "    return( ' '.join(stemming_words))\n"
      ],
      "metadata": {
        "execution": {
          "iopub.status.busy": "2023-05-13T08:47:05.415779Z",
          "iopub.execute_input": "2023-05-13T08:47:05.416158Z",
          "iopub.status.idle": "2023-05-13T08:47:05.427356Z",
          "shell.execute_reply.started": "2023-05-13T08:47:05.416125Z",
          "shell.execute_reply": "2023-05-13T08:47:05.426018Z"
        },
        "trusted": true,
        "id": "WoCOyGB9gVpP",
        "colab": {
          "base_uri": "https://localhost:8080/"
        },
        "outputId": "f2057053-e340-46cb-ee64-755503fddea0"
      },
      "outputs": [
        {
          "output_type": "stream",
          "name": "stderr",
          "text": [
            "[nltk_data] Downloading package stopwords to /root/nltk_data...\n",
            "[nltk_data]   Unzipping corpora/stopwords.zip.\n"
          ]
        }
      ],
      "execution_count": null
    },
    {
      "cell_type": "code",
      "source": [
        "#apply review_to_words function on reviews\n",
        "df['Review'] = df['Review'].apply(review_to_words)"
      ],
      "metadata": {
        "execution": {
          "iopub.status.busy": "2023-05-13T08:47:50.976848Z",
          "iopub.execute_input": "2023-05-13T08:47:50.977257Z",
          "iopub.status.idle": "2023-05-13T08:48:07.863061Z",
          "shell.execute_reply.started": "2023-05-13T08:47:50.977225Z",
          "shell.execute_reply": "2023-05-13T08:48:07.86221Z"
        },
        "trusted": true,
        "id": "j0ZUB1MSgVpP",
        "colab": {
          "base_uri": "https://localhost:8080/"
        },
        "outputId": "9109bbd5-88d3-476d-96a3-bb08e803a848"
      },
      "outputs": [
        {
          "output_type": "stream",
          "name": "stderr",
          "text": [
            "<ipython-input-14-997f75ed891b>:17: MarkupResemblesLocatorWarning: The input looks more like a filename than markup. You may want to open this file and pass the filehandle into Beautiful Soup.\n",
            "  review_text = BeautifulSoup(raw_review, 'html.parser').get_text()\n"
          ]
        }
      ],
      "execution_count": null
    },
    {
      "cell_type": "code",
      "source": [
        "from sklearn.preprocessing import LabelEncoder\n",
        "\n",
        "# apply label encoding to the sentiment column\n",
        "encoder = LabelEncoder()\n",
        "df['sentiment_encoded'] = encoder.fit_transform(df['Sentiment'])"
      ],
      "metadata": {
        "execution": {
          "iopub.status.busy": "2023-05-13T10:03:54.186556Z",
          "iopub.execute_input": "2023-05-13T10:03:54.187006Z",
          "iopub.status.idle": "2023-05-13T10:03:54.259256Z",
          "shell.execute_reply.started": "2023-05-13T10:03:54.186972Z",
          "shell.execute_reply": "2023-05-13T10:03:54.258226Z"
        },
        "trusted": true,
        "id": "j5t-P4oPgVpP"
      },
      "outputs": [],
      "execution_count": null
    },
    {
      "cell_type": "markdown",
      "source": [
        "6. Model Building"
      ],
      "metadata": {
        "id": "wH_qhNVmgVpP"
      }
    },
    {
      "cell_type": "code",
      "source": [
        "#import all the necessary packages\n",
        "\n",
        "from sklearn.model_selection import train_test_split #import train_test_split\n",
        "from sklearn.feature_extraction.text import TfidfVectorizer #import TfidfVectorizer\n",
        "from sklearn.metrics import confusion_matrix #import confusion_matrix\n",
        "from sklearn.naive_bayes import MultinomialNB #import MultinomialNB\n",
        "from sklearn.ensemble import RandomForestClassifier  #import RandomForestClassifier"
      ],
      "metadata": {
        "execution": {
          "iopub.status.busy": "2023-05-13T09:48:55.461623Z",
          "iopub.execute_input": "2023-05-13T09:48:55.462042Z",
          "iopub.status.idle": "2023-05-13T09:48:55.751323Z",
          "shell.execute_reply.started": "2023-05-13T09:48:55.46201Z",
          "shell.execute_reply": "2023-05-13T09:48:55.75038Z"
        },
        "trusted": true,
        "id": "CION2ShfgVpP"
      },
      "outputs": [],
      "execution_count": null
    },
    {
      "cell_type": "markdown",
      "source": [
        "We all know that we cannot pass raw text features in our model. We have to convert them into numeric values. We will use TfidfVectorizer to convert our reviews in numeric features."
      ],
      "metadata": {
        "id": "lm3s2KwtgVpP"
      }
    },
    {
      "cell_type": "code",
      "source": [
        "# Creates TF-IDF vectorizer and transforms the corpus\n",
        "vectorizer = TfidfVectorizer()\n",
        "reviews_corpus = vectorizer.fit_transform(df.Review)\n",
        "reviews_corpus.shape"
      ],
      "metadata": {
        "execution": {
          "iopub.status.busy": "2023-05-13T09:50:27.257287Z",
          "iopub.execute_input": "2023-05-13T09:50:27.257941Z",
          "iopub.status.idle": "2023-05-13T09:50:28.430015Z",
          "shell.execute_reply.started": "2023-05-13T09:50:27.257908Z",
          "shell.execute_reply": "2023-05-13T09:50:28.428793Z"
        },
        "trusted": true,
        "id": "owjpI8T9gVpP",
        "colab": {
          "base_uri": "https://localhost:8080/"
        },
        "outputId": "c05e71fc-0a14-4116-bcda-37a84d326d74"
      },
      "outputs": [
        {
          "output_type": "execute_result",
          "data": {
            "text/plain": [
              "(180379, 1018)"
            ]
          },
          "metadata": {},
          "execution_count": 18
        }
      ],
      "execution_count": null
    },
    {
      "cell_type": "markdown",
      "source": [
        "We have built reviews_corpus which are the independent feature in our model."
      ],
      "metadata": {
        "id": "uuqh3IutgVpP"
      }
    },
    {
      "cell_type": "code",
      "source": [
        "#dependent feature\n",
        "sentiment = df['sentiment_encoded']\n",
        "sentiment.shape"
      ],
      "metadata": {
        "execution": {
          "iopub.status.busy": "2023-05-13T10:04:14.96187Z",
          "iopub.execute_input": "2023-05-13T10:04:14.962269Z",
          "iopub.status.idle": "2023-05-13T10:04:14.970689Z",
          "shell.execute_reply.started": "2023-05-13T10:04:14.962239Z",
          "shell.execute_reply": "2023-05-13T10:04:14.969372Z"
        },
        "trusted": true,
        "id": "ytq0XK_NgVpP",
        "colab": {
          "base_uri": "https://localhost:8080/"
        },
        "outputId": "803e968b-a85d-4234-ed4c-964e16b5fb4d"
      },
      "outputs": [
        {
          "output_type": "execute_result",
          "data": {
            "text/plain": [
              "(180379,)"
            ]
          },
          "metadata": {},
          "execution_count": 19
        }
      ],
      "execution_count": null
    },
    {
      "cell_type": "code",
      "source": [
        "#split the data in train and test\n",
        "from sklearn.model_selection import train_test_split\n",
        "X_train,X_test,Y_train,Y_test = train_test_split(reviews_corpus,sentiment,test_size=0.33,random_state=42)\n",
        "print('Train data shape ',X_train.shape,Y_train.shape)\n",
        "print('Test data shape ',X_test.shape,Y_test.shape)"
      ],
      "metadata": {
        "execution": {
          "iopub.status.busy": "2023-05-13T10:04:19.094073Z",
          "iopub.execute_input": "2023-05-13T10:04:19.094774Z",
          "iopub.status.idle": "2023-05-13T10:04:19.127926Z",
          "shell.execute_reply.started": "2023-05-13T10:04:19.09474Z",
          "shell.execute_reply": "2023-05-13T10:04:19.12668Z"
        },
        "trusted": true,
        "id": "ZOczgVNVgVpP",
        "colab": {
          "base_uri": "https://localhost:8080/"
        },
        "outputId": "8062bb68-c0e0-44cf-b813-a6c5968b02ed"
      },
      "outputs": [
        {
          "output_type": "stream",
          "name": "stdout",
          "text": [
            "Train data shape  (120853, 1018) (120853,)\n",
            "Test data shape  (59526, 1018) (59526,)\n"
          ]
        }
      ],
      "execution_count": null
    },
    {
      "cell_type": "markdown",
      "source": [
        "Apply Multinomial Naive Bayes"
      ],
      "metadata": {
        "id": "0Rl4zLnfgVpP"
      }
    },
    {
      "cell_type": "markdown",
      "source": [
        "* Multinomial Naive Bayes is useful for determining the emotional tone of a piece of text, such as a tweet, product review, or customer feedbacks. The model works by computing the probability of each possible sentiment label (positive, negative, neutral) given a piece of text."
      ],
      "metadata": {
        "id": "nY_24ByCgVpQ"
      }
    },
    {
      "cell_type": "code",
      "source": [
        "clf = MultinomialNB().fit(X_train, Y_train) #fit the training data\n",
        "\n",
        "pred = clf.predict(X_test) #predict the sentiment for test data\n",
        "\n",
        "print(\"Accuracy: %s\" % str(clf.score(X_test, Y_test))) #check accuracy\n",
        "print(\"Confusion Matrix\")\n",
        "print(confusion_matrix(pred, Y_test)) #print confusion matrix"
      ],
      "metadata": {
        "execution": {
          "iopub.status.busy": "2023-05-13T10:04:30.514707Z",
          "iopub.execute_input": "2023-05-13T10:04:30.51567Z",
          "iopub.status.idle": "2023-05-13T10:04:30.563731Z",
          "shell.execute_reply.started": "2023-05-13T10:04:30.515634Z",
          "shell.execute_reply": "2023-05-13T10:04:30.562513Z"
        },
        "trusted": true,
        "id": "rIX4dV0KgVpQ",
        "colab": {
          "base_uri": "https://localhost:8080/"
        },
        "outputId": "49d8517f-a2c1-4b79-ac15-b578873e7138"
      },
      "outputs": [
        {
          "output_type": "stream",
          "name": "stdout",
          "text": [
            "Accuracy: 0.9029163726774855\n",
            "Confusion Matrix\n",
            "[[ 5804   511   493]\n",
            " [   18     7    93]\n",
            " [ 2273  2391 47936]]\n"
          ]
        }
      ],
      "execution_count": null
    },
    {
      "cell_type": "markdown",
      "source": [
        "We got an accuracy of 90.2% by using NaiveBayes."
      ],
      "metadata": {
        "id": "pSJOGnozgVpQ"
      }
    },
    {
      "cell_type": "code",
      "source": [
        "#fit the model and predicct the output\n",
        "\n",
        "clf = RandomForestClassifier().fit(X_train, Y_train)\n",
        "\n",
        "pred = clf.predict(X_test)\n",
        "\n",
        "print(\"Accuracy: %s\" % str(clf.score(X_test, Y_test)))\n",
        "print(\"Confusion Matrix\")\n",
        "print(confusion_matrix(pred, Y_test))"
      ],
      "metadata": {
        "execution": {
          "iopub.status.busy": "2023-05-13T10:05:52.842452Z",
          "iopub.execute_input": "2023-05-13T10:05:52.843757Z",
          "iopub.status.idle": "2023-05-13T10:06:42.487127Z",
          "shell.execute_reply.started": "2023-05-13T10:05:52.84371Z",
          "shell.execute_reply": "2023-05-13T10:06:42.485875Z"
        },
        "trusted": true,
        "id": "dDLYHJdggVpQ",
        "colab": {
          "base_uri": "https://localhost:8080/"
        },
        "outputId": "62e4706e-6f19-4ce2-f59d-36ca546cfd0a"
      },
      "outputs": [
        {
          "output_type": "stream",
          "name": "stdout",
          "text": [
            "Accuracy: 0.9096361253905856\n",
            "Confusion Matrix\n",
            "[[ 6119   524   492]\n",
            " [    0     0     2]\n",
            " [ 1976  2385 48028]]\n"
          ]
        }
      ],
      "execution_count": null
    },
    {
      "cell_type": "markdown",
      "source": [],
      "metadata": {
        "id": "wDgXLhaDgVpQ"
      }
    },
    {
      "cell_type": "markdown",
      "source": [
        "Once we transformed our reviews into vectors using TfidfVectorizer and used both NaiveBayes and RandomForestClassifier, we observed that RandomForestClassifier outperformed MultinomialNB.\n",
        "By using RandomForestClassifier without any parameter tuning, we attained an accuracy of 90.95%. However, we can still further improve our accuracy by tuning the parameters of our classifier."
      ],
      "metadata": {
        "id": "_TKHIx3-gVpQ"
      }
    },
    {
      "cell_type": "markdown",
      "source": [
        "RandomForestClassifier proved better for sentiment analysis as the model contains labeled dataset of texts with corresponding sentiment labels (positive, negative, neutral)."
      ],
      "metadata": {
        "id": "kNPSc9SEgVpQ"
      }
    },
    {
      "cell_type": "markdown",
      "source": [],
      "metadata": {
        "id": "Z1xjAZXegVpQ"
      }
    },
    {
      "cell_type": "markdown",
      "source": [],
      "metadata": {
        "id": "lo6zxzPDgVpQ"
      }
    },
    {
      "cell_type": "markdown",
      "source": [],
      "metadata": {
        "id": "XoTshvvZgVpQ"
      }
    },
    {
      "cell_type": "markdown",
      "source": [],
      "metadata": {
        "id": "K-Z-LD2_gVpQ"
      }
    }
  ]
}